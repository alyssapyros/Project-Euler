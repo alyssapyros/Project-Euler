{
 "cells": [
  {
   "cell_type": "code",
   "execution_count": 16,
   "metadata": {
    "collapsed": true
   },
   "outputs": [],
   "source": [
    "import requests\n",
    "import json"
   ]
  },
  {
   "cell_type": "code",
   "execution_count": 31,
   "metadata": {},
   "outputs": [],
   "source": [
    "def pprint(s):\n",
    "    print(json.dumps(json.loads(s), indent=2))\n",
    "\n",
    "def call(id, endpoint, token):\n",
    "    url = 'https://graph.facebook.com/v2.10/{}/{}?access_token={}'.format(id, endpoint, token)\n",
    "    r = requests.get(url)\n",
    "    pprint(r.text)\n"
   ]
  },
  {
   "cell_type": "code",
   "execution_count": 33,
   "metadata": {},
   "outputs": [
    {
     "name": "stdout",
     "output_type": "stream",
     "text": [
      "{\n",
      "  \"paging\": {\n",
      "    \"cursors\": {\n",
      "      \"after\": \"MTA4MTQ4MDI5ODY5NDk1\", \n",
      "      \"before\": \"MTAxNjcwNTcwNTM5NDc0\"\n",
      "    }\n",
      "  }, \n",
      "  \"data\": [\n",
      "    {\n",
      "      \"id\": \"101670570539474\", \n",
      "      \"name\": \"Regular_System_User\"\n",
      "    }, \n",
      "    {\n",
      "      \"id\": \"108148029869495\", \n",
      "      \"name\": \"Linqia_Admin_System_User\"\n",
      "    }\n",
      "  ]\n",
      "}\n"
     ]
    }
   ],
   "source": [
    "#r = requests.get()\n",
    "id = '799404736859280'\n",
    "token = 'EAAbJd6ErxowBAEYwEulonkEqhy5YI3VKaZCBZBai6ingV2JFNZB9yVJCw2B5kR31hy0AQxTrEXsvqzd1CO7ZAgFV2wrXCL78zggEO6DkaT8uFVUY0q6ke68bbDjgn9iIEik5aL46nZCiLEFru7o0aF0jVhnbLWU0vph4VOgkrHel7sFwMGQ2XZBgHdig3hh2UZD'\n",
    "endpoint = 'system_users'\n",
    "call(id, endpoint, token)"
   ]
  },
  {
   "cell_type": "code",
   "execution_count": null,
   "metadata": {
    "collapsed": true
   },
   "outputs": [],
   "source": []
  }
 ],
 "metadata": {
  "kernelspec": {
   "display_name": "Python 2",
   "language": "python",
   "name": "python2"
  },
  "language_info": {
   "codemirror_mode": {
    "name": "ipython",
    "version": 2
   },
   "file_extension": ".py",
   "mimetype": "text/x-python",
   "name": "python",
   "nbconvert_exporter": "python",
   "pygments_lexer": "ipython2",
   "version": "2.7.13"
  }
 },
 "nbformat": 4,
 "nbformat_minor": 2
}
